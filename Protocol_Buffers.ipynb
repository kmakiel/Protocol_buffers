{
 "cells": [
  {
   "cell_type": "markdown",
   "metadata": {},
   "source": [
    "Procol Buffers home page: https://developers.google.com/protocol-buffers/"
   ]
  },
  {
   "cell_type": "markdown",
   "metadata": {},
   "source": [
    "Deffine protocol buffer file schema (Create cities.proto file)."
   ]
  },
  {
   "cell_type": "raw",
   "metadata": {},
   "source": [
    "syntax = \"proto2\";\n",
    "\n",
    "package gisdatascience;\n",
    "\n",
    "message City_prop {\n",
    "  required string name = 1;\n",
    "  required float lat = 2;\n",
    "  required float lon = 3;\n",
    "  required string country = 4;\n",
    "  required int32 population = 5;\n",
    "\n",
    "  enum ISOcodeType {\n",
    "    ISO2 = 0;\n",
    "    ISO3 = 1;\n",
    "  }\n",
    "\n",
    "  message ISOcode {\n",
    "    required string code = 1;\n",
    "    optional ISOcodeType type = 2 [default = ISO2];\n",
    "  }\n",
    "  \n",
    "  repeated ISOcode isocods = 6;\n",
    "\n",
    "}\n",
    "message Cities {\n",
    "  repeated City_prop City = 1;\n",
    "}\n"
   ]
  },
  {
   "cell_type": "markdown",
   "metadata": {},
   "source": [
    "1. Download precompiled binary version of the protocol buffer compiler (protoc) from https://github.com/google/protobuf/releases: \"protoc-3.4.0-win32.zip\" and add this location to your PATH environment variable\n",
    "\n",
    "2. Install protobuf module (conda install protobuf).\n",
    "\n",
    "3. Run protoc compiler on .proto file (protoc -I=source_dir --python_out=dest_dir source_dir/cities.proto)."
   ]
  },
  {
   "cell_type": "code",
   "execution_count": 1,
   "metadata": {},
   "outputs": [],
   "source": [
    "import cities_pb2\n",
    "import pandas as pd"
   ]
  },
  {
   "cell_type": "code",
   "execution_count": 2,
   "metadata": {},
   "outputs": [],
   "source": [
    "# Load comma separated data containing highlevel info about main cities all over the World to pandas dataframe\n",
    "# Data downloaded from from:https://simplemaps.com/data/world-cities\n",
    "csv_file =pd.read_csv('simplemaps-worldcities-basic.csv', sep=',', header=0)"
   ]
  },
  {
   "cell_type": "code",
   "execution_count": 3,
   "metadata": {},
   "outputs": [
    {
     "data": {
      "text/html": [
       "<div>\n",
       "<style>\n",
       "    .dataframe thead tr:only-child th {\n",
       "        text-align: right;\n",
       "    }\n",
       "\n",
       "    .dataframe thead th {\n",
       "        text-align: left;\n",
       "    }\n",
       "\n",
       "    .dataframe tbody tr th {\n",
       "        vertical-align: top;\n",
       "    }\n",
       "</style>\n",
       "<table border=\"1\" class=\"dataframe\">\n",
       "  <thead>\n",
       "    <tr style=\"text-align: right;\">\n",
       "      <th></th>\n",
       "      <th>city</th>\n",
       "      <th>city_ascii</th>\n",
       "      <th>lat</th>\n",
       "      <th>lng</th>\n",
       "      <th>pop</th>\n",
       "      <th>country</th>\n",
       "      <th>iso2</th>\n",
       "      <th>iso3</th>\n",
       "      <th>province</th>\n",
       "    </tr>\n",
       "  </thead>\n",
       "  <tbody>\n",
       "    <tr>\n",
       "      <th>0</th>\n",
       "      <td>Qal eh-ye Now</td>\n",
       "      <td>Qal eh-ye</td>\n",
       "      <td>34.983000</td>\n",
       "      <td>63.133300</td>\n",
       "      <td>2997.0</td>\n",
       "      <td>Afghanistan</td>\n",
       "      <td>AF</td>\n",
       "      <td>AFG</td>\n",
       "      <td>Badghis</td>\n",
       "    </tr>\n",
       "    <tr>\n",
       "      <th>1</th>\n",
       "      <td>Chaghcharan</td>\n",
       "      <td>Chaghcharan</td>\n",
       "      <td>34.516701</td>\n",
       "      <td>65.250001</td>\n",
       "      <td>15000.0</td>\n",
       "      <td>Afghanistan</td>\n",
       "      <td>AF</td>\n",
       "      <td>AFG</td>\n",
       "      <td>Ghor</td>\n",
       "    </tr>\n",
       "    <tr>\n",
       "      <th>2</th>\n",
       "      <td>Lashkar Gah</td>\n",
       "      <td>Lashkar Gah</td>\n",
       "      <td>31.582998</td>\n",
       "      <td>64.360000</td>\n",
       "      <td>201546.0</td>\n",
       "      <td>Afghanistan</td>\n",
       "      <td>AF</td>\n",
       "      <td>AFG</td>\n",
       "      <td>Hilmand</td>\n",
       "    </tr>\n",
       "    <tr>\n",
       "      <th>3</th>\n",
       "      <td>Zaranj</td>\n",
       "      <td>Zaranj</td>\n",
       "      <td>31.112001</td>\n",
       "      <td>61.886998</td>\n",
       "      <td>49851.0</td>\n",
       "      <td>Afghanistan</td>\n",
       "      <td>AF</td>\n",
       "      <td>AFG</td>\n",
       "      <td>Nimroz</td>\n",
       "    </tr>\n",
       "    <tr>\n",
       "      <th>4</th>\n",
       "      <td>Tarin Kowt</td>\n",
       "      <td>Tarin Kowt</td>\n",
       "      <td>32.633298</td>\n",
       "      <td>65.866699</td>\n",
       "      <td>10000.0</td>\n",
       "      <td>Afghanistan</td>\n",
       "      <td>AF</td>\n",
       "      <td>AFG</td>\n",
       "      <td>Uruzgan</td>\n",
       "    </tr>\n",
       "  </tbody>\n",
       "</table>\n",
       "</div>"
      ],
      "text/plain": [
       "            city   city_ascii        lat        lng       pop      country  \\\n",
       "0  Qal eh-ye Now    Qal eh-ye  34.983000  63.133300    2997.0  Afghanistan   \n",
       "1    Chaghcharan  Chaghcharan  34.516701  65.250001   15000.0  Afghanistan   \n",
       "2    Lashkar Gah  Lashkar Gah  31.582998  64.360000  201546.0  Afghanistan   \n",
       "3         Zaranj       Zaranj  31.112001  61.886998   49851.0  Afghanistan   \n",
       "4     Tarin Kowt   Tarin Kowt  32.633298  65.866699   10000.0  Afghanistan   \n",
       "\n",
       "  iso2 iso3 province  \n",
       "0   AF  AFG  Badghis  \n",
       "1   AF  AFG     Ghor  \n",
       "2   AF  AFG  Hilmand  \n",
       "3   AF  AFG   Nimroz  \n",
       "4   AF  AFG  Uruzgan  "
      ]
     },
     "execution_count": 3,
     "metadata": {},
     "output_type": "execute_result"
    }
   ],
   "source": [
    "# Display few first rows of csv_file\n",
    "csv_file.head()"
   ]
  },
  {
   "cell_type": "code",
   "execution_count": 4,
   "metadata": {},
   "outputs": [],
   "source": [
    "# Open or create serialized file containing list of cities\n",
    "serialized_file = open('Cities_proto', \"wb\")"
   ]
  },
  {
   "cell_type": "code",
   "execution_count": 5,
   "metadata": {
    "collapsed": true
   },
   "outputs": [],
   "source": [
    "# Create empty Cities object\n",
    "Cities = cities_pb2.Cities()"
   ]
  },
  {
   "cell_type": "code",
   "execution_count": 6,
   "metadata": {},
   "outputs": [],
   "source": [
    "#iterate through csv_file data frame and write data into Cities object\n",
    "for i, row in csv_file.iterrows():\n",
    "    new_city=Cities.City.add()\n",
    "    new_city.name=csv_file.iloc[i]['city_ascii']\n",
    "    new_city.lat=csv_file.iloc[i]['lat']\n",
    "    new_city.lon=csv_file.iloc[i]['lng']\n",
    "    new_city.country=csv_file.iloc[i]['country']\n",
    "    new_city.population=int(csv_file.iloc[i]['pop'])\n",
    "    iso = new_city.isocods.add()\n",
    "    iso.code = str(csv_file.iloc[i]['iso2'])\n",
    "    iso.type = cities_pb2.City_prop.ISO2\n",
    "    iso = new_city.isocods.add()\n",
    "    iso.code = str(csv_file.iloc[i]['iso3'])\n",
    "    iso.type = cities_pb2.City_prop.ISO3"
   ]
  },
  {
   "cell_type": "code",
   "execution_count": 7,
   "metadata": {},
   "outputs": [
    {
     "data": {
      "text/plain": [
       "[name: \"Qal eh-ye\"\n",
       " lat: 34.98300013\n",
       " lon: 63.13329964\n",
       " country: \"Afghanistan\"\n",
       " population: 2997\n",
       " isocods {\n",
       "   code: \"AF\"\n",
       "   type: ISO2\n",
       " }\n",
       " isocods {\n",
       "   code: \"AFG\"\n",
       "   type: ISO3\n",
       " }, name: \"Chaghcharan\"\n",
       " lat: 34.5167011\n",
       " lon: 65.25000063\n",
       " country: \"Afghanistan\"\n",
       " population: 15000\n",
       " isocods {\n",
       "   code: \"AF\"\n",
       "   type: ISO2\n",
       " }\n",
       " isocods {\n",
       "   code: \"AFG\"\n",
       "   type: ISO3\n",
       " }]"
      ]
     },
     "execution_count": 7,
     "metadata": {},
     "output_type": "execute_result"
    }
   ],
   "source": [
    "# Diplay 2 Cities from Cities object\n",
    "Cities.City[0:2]"
   ]
  },
  {
   "cell_type": "code",
   "execution_count": 8,
   "metadata": {
    "collapsed": true
   },
   "outputs": [],
   "source": [
    "#serialize message to string and write to serialized_file\n",
    "serialized_file.write(Cities.SerializeToString())\n",
    "serialized_file.close()"
   ]
  },
  {
   "cell_type": "code",
   "execution_count": 9,
   "metadata": {},
   "outputs": [],
   "source": [
    "# Reading data from serialized_file\n",
    "serialized_file= open('Cities_proto', \"rb\")\n",
    "Cities_read = cities_pb2.Cities()\n",
    "Cities_read.ParseFromString(serialized_file.read())\n"
   ]
  },
  {
   "cell_type": "code",
   "execution_count": 10,
   "metadata": {},
   "outputs": [
    {
     "data": {
      "text/plain": [
       "[name: \"Qal eh-ye\"\n",
       " lat: 34.983001708984375\n",
       " lon: 63.13330078125\n",
       " country: \"Afghanistan\"\n",
       " population: 2997\n",
       " isocods {\n",
       "   code: \"AF\"\n",
       "   type: ISO2\n",
       " }\n",
       " isocods {\n",
       "   code: \"AFG\"\n",
       "   type: ISO3\n",
       " }, name: \"Chaghcharan\"\n",
       " lat: 34.516700744628906\n",
       " lon: 65.25\n",
       " country: \"Afghanistan\"\n",
       " population: 15000\n",
       " isocods {\n",
       "   code: \"AF\"\n",
       "   type: ISO2\n",
       " }\n",
       " isocods {\n",
       "   code: \"AFG\"\n",
       "   type: ISO3\n",
       " }]"
      ]
     },
     "execution_count": 10,
     "metadata": {},
     "output_type": "execute_result"
    }
   ],
   "source": [
    "Cities_read.City[0:2]"
   ]
  },
  {
   "cell_type": "code",
   "execution_count": 25,
   "metadata": {},
   "outputs": [],
   "source": [
    "# Function finding city and displaying it on the Folium map\n",
    "import folium\n",
    "%matplotlib inline\n",
    "\n",
    "def find_city(country_name):\n",
    "    map = folium.Map(tiles='Mapbox Bright')\n",
    "    found=0\n",
    "    for i in Cities_read.City:\n",
    "        if i.name==country_name:\n",
    "            folium.Marker([i.lat,i.lon], popup=i.name+\\\n",
    "                          \"<br><i>Country: \"+str(i.country)+\"</i>\"\\\n",
    "                          \"<br><i>Population: \"+str(i.population)+\"</i>\").add_to(map)\n",
    "            map.location=[i.lat,i.lon]\n",
    "            map.zoom_start=5\n",
    "            found=1\n",
    "    if found==0:\n",
    "        print ('City not found in our DB')\n",
    "    return map"
   ]
  },
  {
   "cell_type": "code",
   "execution_count": 26,
   "metadata": {},
   "outputs": [
    {
     "data": {
      "text/html": [
       "<div style=\"width:100%;\"><div style=\"position:relative;width:100%;height:0;padding-bottom:60%;\"><iframe src=\"data:text/html;charset=utf-8;base64,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\" style=\"position:absolute;width:100%;height:100%;left:0;top:0;border:none !important;\" allowfullscreen webkitallowfullscreen mozallowfullscreen></iframe></div></div>"
      ],
      "text/plain": [
       "<folium.folium.Map at 0xb66dcf8>"
      ]
     },
     "execution_count": 26,
     "metadata": {},
     "output_type": "execute_result"
    }
   ],
   "source": [
    "#Searching for Krakow City\n",
    "find_city('Krakow')"
   ]
  },
  {
   "cell_type": "code",
   "execution_count": 14,
   "metadata": {
    "collapsed": true
   },
   "outputs": [],
   "source": [
    "serialized_file.close()"
   ]
  }
 ],
 "metadata": {
  "kernelspec": {
   "display_name": "Python 3",
   "language": "python",
   "name": "python3"
  },
  "language_info": {
   "codemirror_mode": {
    "name": "ipython",
    "version": 3
   },
   "file_extension": ".py",
   "mimetype": "text/x-python",
   "name": "python",
   "nbconvert_exporter": "python",
   "pygments_lexer": "ipython3",
   "version": "3.6.1"
  }
 },
 "nbformat": 4,
 "nbformat_minor": 2
}
